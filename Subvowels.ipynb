{
  "nbformat": 4,
  "nbformat_minor": 0,
  "metadata": {
    "colab": {
      "provenance": [],
      "authorship_tag": "ABX9TyNs0JZcXEiOxyDb6lN7aZaf",
      "include_colab_link": true
    },
    "kernelspec": {
      "name": "python3",
      "display_name": "Python 3"
    },
    "language_info": {
      "name": "python"
    }
  },
  "cells": [
    {
      "cell_type": "markdown",
      "metadata": {
        "id": "view-in-github",
        "colab_type": "text"
      },
      "source": [
        "<a href=\"https://colab.research.google.com/github/Ediee2000/colab_things/blob/main/Subvowels.ipynb\" target=\"_parent\"><img src=\"https://colab.research.google.com/assets/colab-badge.svg\" alt=\"Open In Colab\"/></a>"
      ]
    },
    {
      "cell_type": "code",
      "execution_count": 90,
      "metadata": {
        "colab": {
          "base_uri": "https://localhost:8080/",
          "height": 35
        },
        "id": "RlnZLbSX-8TB",
        "outputId": "ac0f6abd-ed7d-4895-9b27-b3c12e64b9a8"
      },
      "outputs": [
        {
          "output_type": "execute_result",
          "data": {
            "text/plain": [
              "'azuod'"
            ],
            "application/vnd.google.colaboratory.intrinsic+json": {
              "type": "string"
            }
          },
          "metadata": {},
          "execution_count": 90
        }
      ],
      "source": [
        "def findSubstring(s, k):\n",
        "    max_vowel = 0\n",
        "    subvowel = ''\n",
        "    vowels = ['a','e','i','o','u']\n",
        "    count_vowels = 0\n",
        "    for x in range(0,len(s)):\n",
        "        if s[x-k] not in vowels and x >= k:\n",
        "            count_vowels -= 1 if count_vowels > 0 else 0\n",
        "        if s[x] in vowels:\n",
        "            count_vowels += 1\n",
        "\n",
        "        if max_vowel < count_vowels and count_vowels <= k and x-k > 0:\n",
        "            subvowel = s[x-k: x]\n",
        "            max_vowel = count_vowels\n",
        "    return subvowel\n",
        "    \n",
        "\n",
        "findSubstring(\"\"\"eazuodeasjhevmfcheleeldmgomahlxnhuuuaqfcxgzkasdsaaceaeaaaaaaaaaaaaadwkwtbmkanlasdsaaacccvczyaovocymcmxmzqnwmyghfefdlxyhzqhzevc\"\"\",5)"
      ]
    }
  ]
}