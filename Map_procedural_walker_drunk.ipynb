{
  "nbformat": 4,
  "nbformat_minor": 0,
  "metadata": {
    "colab": {
      "name": "Map_procedural_walker_drunk.ipynb",
      "provenance": [],
      "collapsed_sections": [],
      "authorship_tag": "ABX9TyO8QA1UV9NiravdtvncIlTc",
      "include_colab_link": true
    },
    "kernelspec": {
      "name": "python3",
      "display_name": "Python 3"
    },
    "language_info": {
      "name": "python"
    }
  },
  "cells": [
    {
      "cell_type": "markdown",
      "metadata": {
        "id": "view-in-github",
        "colab_type": "text"
      },
      "source": [
        "<a href=\"https://colab.research.google.com/github/Ediee2000/colab_things/blob/main/Map_procedural_walker_drunk.ipynb\" target=\"_parent\"><img src=\"https://colab.research.google.com/assets/colab-badge.svg\" alt=\"Open In Colab\"/></a>"
      ]
    },
    {
      "cell_type": "code",
      "execution_count": 80,
      "metadata": {
        "colab": {
          "base_uri": "https://localhost:8080/"
        },
        "id": "P_8o4PfTTsfR",
        "outputId": "5f6b9b08-5473-472a-eb2a-92a04f7276f0"
      },
      "outputs": [
        {
          "output_type": "stream",
          "name": "stdout",
          "text": [
            "[2, 2, 0, 2, 0, 2, 0, 0, 1, 2, 2, 2, 2, 2, 2, 2, 2, 2, 1, 2]\n",
            "[0, 2, 2, 0, 2, 0, 2, 0, 0, 2, 2, 2, 2, 2, 2, 2, 2, 2, 2, 2]\n",
            "[2, 2, 2, 2, 0, 2, 0, 2, 0, 2, 1, 2, 2, 2, 2, 2, 2, 2, 2, 2]\n",
            "[0, 2, 2, 2, 2, 0, 2, 0, 2, 2, 2, 2, 2, 2, 2, 2, 2, 2, 2, 2]\n",
            "[2, 0, 2, 0, 0, 2, 0, 2, 0, 2, 2, 2, 2, 2, 2, 2, 2, 2, 2, 2]\n",
            "[0, 2, 0, 2, 0, 0, 0, 0, 2, 0, 2, 2, 2, 2, 2, 2, 2, 2, 2, 2]\n",
            "[2, 0, 2, 0, 0, 0, 0, 2, 0, 2, 1, 2, 1, 2, 2, 2, 2, 2, 2, 2]\n",
            "[0, 0, 0, 2, 0, 2, 0, 0, 2, 1, 2, 2, 2, 2, 2, 2, 2, 2, 2, 2]\n",
            "[2, 0, 2, 0, 2, 0, 2, 1, 2, 2, 0, 2, 2, 2, 2, 2, 2, 2, 2, 0]\n",
            "[1, 2, 2, 2, 2, 2, 1, 2, 0, 1, 2, 2, 2, 2, 2, 2, 2, 2, 2, 2]\n",
            "[2, 2, 2, 1, 2, 2, 2, 0, 2, 0, 2, 2, 2, 2, 2, 2, 2, 2, 2, 0]\n",
            "[2, 2, 1, 2, 2, 2, 1, 2, 2, 2, 2, 2, 2, 2, 2, 2, 2, 2, 2, 2]\n",
            "[0, 2, 2, 2, 2, 2, 2, 2, 2, 2, 2, 2, 2, 2, 0, 2, 2, 2, 2, 0]\n",
            "[2, 2, 2, 2, 2, 2, 2, 2, 2, 2, 2, 0, 2, 2, 2, 2, 2, 2, 0, 0]\n",
            "[2, 2, 2, 2, 2, 2, 2, 2, 2, 2, 2, 2, 2, 2, 2, 2, 2, 2, 2, 0]\n",
            "[2, 2, 2, 1, 2, 2, 2, 2, 2, 2, 2, 2, 2, 2, 2, 2, 2, 2, 0, 0]\n",
            "[2, 2, 2, 2, 2, 2, 2, 2, 2, 2, 2, 2, 2, 2, 2, 2, 2, 2, 0, 0]\n",
            "[2, 2, 1, 2, 2, 2, 2, 2, 2, 2, 2, 2, 2, 2, 2, 2, 2, 2, 2, 0]\n",
            "[2, 2, 2, 2, 2, 2, 2, 2, 2, 2, 2, 2, 2, 2, 0, 2, 2, 2, 2, 0]\n"
          ]
        }
      ],
      "source": [
        "import random\n",
        "import time\n",
        "from IPython.display import clear_output\n",
        "\n",
        "\n",
        "UP = 0\n",
        "DOWN = 1\n",
        "LEFT = 2\n",
        "RIGHT = 3\n",
        "\n",
        "def generate_matrix(x,y):\n",
        "    matrix = []\n",
        "    for row in range(y):\n",
        "        matrix.append([ 0 for x in range(x)])\n",
        "    return matrix\n",
        "\n",
        "\n",
        "class WalkerDrunk:\n",
        "\n",
        "    def __init__(self, obj_map, type_tile = 0, steps = 0, ):\n",
        "        self.type_tile = type_tile\n",
        "        self.pos_x = None\n",
        "        self.pos_y = None\n",
        "        self.steps = steps\n",
        "        self.pos_x_bound = obj_map.len_x\n",
        "        self.pos_y_bound = obj_map.len_y\n",
        "        self.obj_map = obj_map\n",
        "\n",
        "    def spawn_pos(self, x, y):\n",
        "        self.pos_x = x\n",
        "        self.pos_y = y\n",
        "\n",
        "    def walk(self):\n",
        "\n",
        "        if self.steps > 0:\n",
        "            new_pos = self.try_step()\n",
        "            self.pos_x = new_pos[1]\n",
        "            self.pos_y = new_pos[0]\n",
        "            self.obj_map.map_matrix[self.pos_x][self.pos_y] = self.type_tile\n",
        "            self.steps -= 1\n",
        "    \n",
        "    def get_steps(self):\n",
        "        return self.steps\n",
        "\n",
        "        \n",
        "    def try_step(self):\n",
        "        rand_walk = random.randint(0,3)\n",
        "\n",
        "        if rand_walk == UP:\n",
        "            newpos = (self.pos_x - 1, self.pos_y) if self.tile_valid(self.pos_x - 1, self.pos_y) else self.try_step()\n",
        "            return newpos\n",
        "        elif rand_walk == DOWN:\n",
        "            newpos = (self.pos_x + 1, self.pos_y) if self.tile_valid(self.pos_x + 1, self.pos_y) else self.try_step()\n",
        "            return newpos\n",
        "        elif rand_walk == LEFT:\n",
        "            newpos = (self.pos_x, self.pos_y - 1) if self.tile_valid(self.pos_x, self.pos_y - 1) else self.try_step()\n",
        "            return newpos\n",
        "        elif rand_walk == RIGHT:\n",
        "            newpos = (self.pos_x, self.pos_y + 1) if self.tile_valid(self.pos_x, self.pos_y + 1) else self.try_step()\n",
        "            return newpos\n",
        "\n",
        "    def tile_valid(self, x, y):\n",
        "        if x > -1 and x < self.pos_x_bound and y > -1 and y < self.pos_y_bound:\n",
        "            return True\n",
        "        return False\n",
        "\n",
        "class Map:\n",
        "\n",
        "    def __init__(self, x, y):\n",
        "\n",
        "        self.map_matrix = generate_matrix(x , y)\n",
        "        self.len_x = x\n",
        "        self.len_y = y\n",
        "        self.center_x, self.center_y = self.find_center()\n",
        "\n",
        "    def print(self):\n",
        "        for x in self.map_matrix:\n",
        "            print(x)\n",
        "\n",
        "    def generate_terrain(self, walkers):\n",
        "        for step in range(max([walker.steps for walker in walkers])):\n",
        "            for walker in walkers:\n",
        "                if walker.steps > 0:\n",
        "                    if walker.pos_x == None == walker.pos_y:\n",
        "                        walker.spawn_pos(random.randint(0, self.len_x -1), \n",
        "                                     random.randint(0, self.len_y -1))\n",
        "                    walker.walk()\n",
        "            clear_output(wait=True)\n",
        "            self.print()\n",
        "                \n",
        "\n",
        "\n",
        "        \n",
        "\n",
        "    def find_center(self):\n",
        "        \n",
        "        x = int(self.len_x / 2)\n",
        "        y = int(self.len_y / 2)\n",
        "        return x, x\n",
        "\n",
        "\n",
        "\n",
        "\n",
        "\n",
        "\n",
        "map = Map(20,19)\n",
        "map.print()\n",
        "map.generate_terrain([WalkerDrunk(map, 1, 500), WalkerDrunk(map, 2, 1500)])\n"
      ]
    },
    {
      "cell_type": "code",
      "source": [
        "\n",
        "map.map_matrix[7]"
      ],
      "metadata": {
        "colab": {
          "base_uri": "https://localhost:8080/",
          "height": 165
        },
        "id": "0yLoTgrvaNnN",
        "outputId": "31882e91-9a93-4558-d64d-be90b06b53e9"
      },
      "execution_count": 30,
      "outputs": [
        {
          "output_type": "error",
          "ename": "IndexError",
          "evalue": "ignored",
          "traceback": [
            "\u001b[0;31m---------------------------------------------------------------------------\u001b[0m",
            "\u001b[0;31mIndexError\u001b[0m                                Traceback (most recent call last)",
            "\u001b[0;32m<ipython-input-30-afbb71fb5854>\u001b[0m in \u001b[0;36m<module>\u001b[0;34m()\u001b[0m\n\u001b[0;32m----> 1\u001b[0;31m \u001b[0mmap\u001b[0m\u001b[0;34m.\u001b[0m\u001b[0mmap_matrix\u001b[0m\u001b[0;34m[\u001b[0m\u001b[0;36m7\u001b[0m\u001b[0;34m]\u001b[0m\u001b[0;34m\u001b[0m\u001b[0;34m\u001b[0m\u001b[0m\n\u001b[0m",
            "\u001b[0;31mIndexError\u001b[0m: list index out of range"
          ]
        }
      ]
    },
    {
      "cell_type": "code",
      "source": [
        "def spiral(X, Y):\n",
        "    x = y = 0\n",
        "    dx = 0\n",
        "    dy = -1\n",
        "    for i in range(max(X, Y)**2):\n",
        "        if (-X/2 < x <= X/2) and (-Y/2 < y <= Y/2):\n",
        "            print (x, y)\n",
        "            # DO STUFF...\n",
        "        if x == y or (x < 0 and x == -y) or (x > 0 and x == 1-y):\n",
        "            dx, dy = -dy, dx\n",
        "        x, y = x+dx, y+dy\n",
        "\n",
        "spiral(15,4)"
      ],
      "metadata": {
        "colab": {
          "base_uri": "https://localhost:8080/"
        },
        "id": "Wyw7VkI4XnsF",
        "outputId": "e0115320-8bd9-43ff-c54d-183a0a6c0581"
      },
      "execution_count": 13,
      "outputs": [
        {
          "output_type": "stream",
          "name": "stdout",
          "text": [
            "0 0\n",
            "1 0\n",
            "1 1\n",
            "0 1\n",
            "-1 1\n",
            "-1 0\n",
            "-1 -1\n",
            "0 -1\n",
            "1 -1\n",
            "2 -1\n",
            "2 0\n",
            "2 1\n",
            "2 2\n",
            "1 2\n",
            "0 2\n",
            "-1 2\n",
            "-2 2\n",
            "-2 1\n",
            "-2 0\n",
            "-2 -1\n",
            "3 -1\n",
            "3 0\n",
            "3 1\n",
            "3 2\n",
            "-3 2\n",
            "-3 1\n",
            "-3 0\n",
            "-3 -1\n",
            "4 -1\n",
            "4 0\n",
            "4 1\n",
            "4 2\n",
            "-4 2\n",
            "-4 1\n",
            "-4 0\n",
            "-4 -1\n",
            "5 -1\n",
            "5 0\n",
            "5 1\n",
            "5 2\n",
            "-5 2\n",
            "-5 1\n",
            "-5 0\n",
            "-5 -1\n",
            "6 -1\n",
            "6 0\n",
            "6 1\n",
            "6 2\n",
            "-6 2\n",
            "-6 1\n",
            "-6 0\n",
            "-6 -1\n",
            "7 -1\n",
            "7 0\n",
            "7 1\n",
            "7 2\n",
            "-7 2\n",
            "-7 1\n",
            "-7 0\n",
            "-7 -1\n"
          ]
        }
      ]
    }
  ]
}